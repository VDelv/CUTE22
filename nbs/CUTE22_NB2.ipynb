{
  "cells": [
    {
      "cell_type": "markdown",
      "id": "02595314",
      "metadata": {
        "id": "02595314"
      },
      "source": [
        "# How to use FasterAI"
      ]
    },
    {
      "cell_type": "code",
      "source": [
        "!pip install git+https://github.com/nathanhubens/fasterai.git\n",
        "!pip install git+https://github.com/nathanhubens/CUTE22.git"
      ],
      "metadata": {
        "colab": {
          "base_uri": "https://localhost:8080/"
        },
        "id": "1zJYMgSJEp2M",
        "outputId": "1fd0b1aa-bbd6-466c-e837-0a12215ed9c2"
      },
      "id": "1zJYMgSJEp2M",
      "execution_count": 1,
      "outputs": [
        {
          "output_type": "stream",
          "name": "stdout",
          "text": [
            "Looking in indexes: https://pypi.org/simple, https://us-python.pkg.dev/colab-wheels/public/simple/\n",
            "Collecting git+https://github.com/nathanhubens/fasterai.git\n",
            "  Cloning https://github.com/nathanhubens/fasterai.git to /tmp/pip-req-build-6z2z4eyz\n",
            "  Running command git clone -q https://github.com/nathanhubens/fasterai.git /tmp/pip-req-build-6z2z4eyz\n",
            "Requirement already satisfied: fastai>=2.2 in /usr/local/lib/python3.7/dist-packages (from fasterai==0.1.9) (2.6.3)\n",
            "Requirement already satisfied: pillow>6.0.0 in /usr/local/lib/python3.7/dist-packages (from fastai>=2.2->fasterai==0.1.9) (7.1.2)\n",
            "Requirement already satisfied: fastcore<1.5,>=1.3.27 in /usr/local/lib/python3.7/dist-packages (from fastai>=2.2->fasterai==0.1.9) (1.4.4)\n",
            "Requirement already satisfied: requests in /usr/local/lib/python3.7/dist-packages (from fastai>=2.2->fasterai==0.1.9) (2.23.0)\n",
            "Requirement already satisfied: spacy<4 in /usr/local/lib/python3.7/dist-packages (from fastai>=2.2->fasterai==0.1.9) (3.3.1)\n",
            "Requirement already satisfied: torchvision>=0.8.2 in /usr/local/lib/python3.7/dist-packages (from fastai>=2.2->fasterai==0.1.9) (0.12.0+cu113)\n",
            "Requirement already satisfied: pyyaml in /usr/local/lib/python3.7/dist-packages (from fastai>=2.2->fasterai==0.1.9) (3.13)\n",
            "Requirement already satisfied: matplotlib in /usr/local/lib/python3.7/dist-packages (from fastai>=2.2->fasterai==0.1.9) (3.2.2)\n",
            "Requirement already satisfied: fastprogress>=0.2.4 in /usr/local/lib/python3.7/dist-packages (from fastai>=2.2->fasterai==0.1.9) (1.0.2)\n",
            "Requirement already satisfied: packaging in /usr/local/lib/python3.7/dist-packages (from fastai>=2.2->fasterai==0.1.9) (21.3)\n",
            "Requirement already satisfied: scipy in /usr/local/lib/python3.7/dist-packages (from fastai>=2.2->fasterai==0.1.9) (1.4.1)\n",
            "Requirement already satisfied: scikit-learn in /usr/local/lib/python3.7/dist-packages (from fastai>=2.2->fasterai==0.1.9) (1.0.2)\n",
            "Requirement already satisfied: pip in /usr/local/lib/python3.7/dist-packages (from fastai>=2.2->fasterai==0.1.9) (21.1.3)\n",
            "Requirement already satisfied: pandas in /usr/local/lib/python3.7/dist-packages (from fastai>=2.2->fasterai==0.1.9) (1.3.5)\n",
            "Requirement already satisfied: fastdownload<2,>=0.0.5 in /usr/local/lib/python3.7/dist-packages (from fastai>=2.2->fasterai==0.1.9) (0.0.6)\n",
            "Requirement already satisfied: torch<1.12,>=1.7.0 in /usr/local/lib/python3.7/dist-packages (from fastai>=2.2->fasterai==0.1.9) (1.11.0+cu113)\n",
            "Requirement already satisfied: pathy>=0.3.5 in /usr/local/lib/python3.7/dist-packages (from spacy<4->fastai>=2.2->fasterai==0.1.9) (0.6.1)\n",
            "Requirement already satisfied: wasabi<1.1.0,>=0.9.1 in /usr/local/lib/python3.7/dist-packages (from spacy<4->fastai>=2.2->fasterai==0.1.9) (0.9.1)\n",
            "Requirement already satisfied: pydantic!=1.8,!=1.8.1,<1.9.0,>=1.7.4 in /usr/local/lib/python3.7/dist-packages (from spacy<4->fastai>=2.2->fasterai==0.1.9) (1.8.2)\n",
            "Requirement already satisfied: typer<0.5.0,>=0.3.0 in /usr/local/lib/python3.7/dist-packages (from spacy<4->fastai>=2.2->fasterai==0.1.9) (0.4.1)\n",
            "Requirement already satisfied: blis<0.8.0,>=0.4.0 in /usr/local/lib/python3.7/dist-packages (from spacy<4->fastai>=2.2->fasterai==0.1.9) (0.7.7)\n",
            "Requirement already satisfied: spacy-loggers<2.0.0,>=1.0.0 in /usr/local/lib/python3.7/dist-packages (from spacy<4->fastai>=2.2->fasterai==0.1.9) (1.0.2)\n",
            "Requirement already satisfied: catalogue<2.1.0,>=2.0.6 in /usr/local/lib/python3.7/dist-packages (from spacy<4->fastai>=2.2->fasterai==0.1.9) (2.0.7)\n",
            "Requirement already satisfied: setuptools in /usr/local/lib/python3.7/dist-packages (from spacy<4->fastai>=2.2->fasterai==0.1.9) (57.4.0)\n",
            "Requirement already satisfied: thinc<8.1.0,>=8.0.14 in /usr/local/lib/python3.7/dist-packages (from spacy<4->fastai>=2.2->fasterai==0.1.9) (8.0.17)\n",
            "Requirement already satisfied: jinja2 in /usr/local/lib/python3.7/dist-packages (from spacy<4->fastai>=2.2->fasterai==0.1.9) (2.11.3)\n",
            "Requirement already satisfied: tqdm<5.0.0,>=4.38.0 in /usr/local/lib/python3.7/dist-packages (from spacy<4->fastai>=2.2->fasterai==0.1.9) (4.64.0)\n",
            "Requirement already satisfied: langcodes<4.0.0,>=3.2.0 in /usr/local/lib/python3.7/dist-packages (from spacy<4->fastai>=2.2->fasterai==0.1.9) (3.3.0)\n",
            "Requirement already satisfied: typing-extensions<4.2.0,>=3.7.4 in /usr/local/lib/python3.7/dist-packages (from spacy<4->fastai>=2.2->fasterai==0.1.9) (4.1.1)\n",
            "Requirement already satisfied: spacy-legacy<3.1.0,>=3.0.9 in /usr/local/lib/python3.7/dist-packages (from spacy<4->fastai>=2.2->fasterai==0.1.9) (3.0.9)\n",
            "Requirement already satisfied: preshed<3.1.0,>=3.0.2 in /usr/local/lib/python3.7/dist-packages (from spacy<4->fastai>=2.2->fasterai==0.1.9) (3.0.6)\n",
            "Requirement already satisfied: numpy>=1.15.0 in /usr/local/lib/python3.7/dist-packages (from spacy<4->fastai>=2.2->fasterai==0.1.9) (1.21.6)\n",
            "Requirement already satisfied: murmurhash<1.1.0,>=0.28.0 in /usr/local/lib/python3.7/dist-packages (from spacy<4->fastai>=2.2->fasterai==0.1.9) (1.0.7)\n",
            "Requirement already satisfied: cymem<2.1.0,>=2.0.2 in /usr/local/lib/python3.7/dist-packages (from spacy<4->fastai>=2.2->fasterai==0.1.9) (2.0.6)\n",
            "Requirement already satisfied: srsly<3.0.0,>=2.4.3 in /usr/local/lib/python3.7/dist-packages (from spacy<4->fastai>=2.2->fasterai==0.1.9) (2.4.3)\n",
            "Requirement already satisfied: zipp>=0.5 in /usr/local/lib/python3.7/dist-packages (from catalogue<2.1.0,>=2.0.6->spacy<4->fastai>=2.2->fasterai==0.1.9) (3.8.0)\n",
            "Requirement already satisfied: pyparsing!=3.0.5,>=2.0.2 in /usr/local/lib/python3.7/dist-packages (from packaging->fastai>=2.2->fasterai==0.1.9) (3.0.9)\n",
            "Requirement already satisfied: smart-open<6.0.0,>=5.0.0 in /usr/local/lib/python3.7/dist-packages (from pathy>=0.3.5->spacy<4->fastai>=2.2->fasterai==0.1.9) (5.2.1)\n",
            "Requirement already satisfied: idna<3,>=2.5 in /usr/local/lib/python3.7/dist-packages (from requests->fastai>=2.2->fasterai==0.1.9) (2.10)\n",
            "Requirement already satisfied: urllib3!=1.25.0,!=1.25.1,<1.26,>=1.21.1 in /usr/local/lib/python3.7/dist-packages (from requests->fastai>=2.2->fasterai==0.1.9) (1.24.3)\n",
            "Requirement already satisfied: chardet<4,>=3.0.2 in /usr/local/lib/python3.7/dist-packages (from requests->fastai>=2.2->fasterai==0.1.9) (3.0.4)\n",
            "Requirement already satisfied: certifi>=2017.4.17 in /usr/local/lib/python3.7/dist-packages (from requests->fastai>=2.2->fasterai==0.1.9) (2022.6.15)\n",
            "Requirement already satisfied: click<9.0.0,>=7.1.1 in /usr/local/lib/python3.7/dist-packages (from typer<0.5.0,>=0.3.0->spacy<4->fastai>=2.2->fasterai==0.1.9) (7.1.2)\n",
            "Requirement already satisfied: MarkupSafe>=0.23 in /usr/local/lib/python3.7/dist-packages (from jinja2->spacy<4->fastai>=2.2->fasterai==0.1.9) (2.0.1)\n",
            "Requirement already satisfied: python-dateutil>=2.1 in /usr/local/lib/python3.7/dist-packages (from matplotlib->fastai>=2.2->fasterai==0.1.9) (2.8.2)\n",
            "Requirement already satisfied: kiwisolver>=1.0.1 in /usr/local/lib/python3.7/dist-packages (from matplotlib->fastai>=2.2->fasterai==0.1.9) (1.4.3)\n",
            "Requirement already satisfied: cycler>=0.10 in /usr/local/lib/python3.7/dist-packages (from matplotlib->fastai>=2.2->fasterai==0.1.9) (0.11.0)\n",
            "Requirement already satisfied: six>=1.5 in /usr/local/lib/python3.7/dist-packages (from python-dateutil>=2.1->matplotlib->fastai>=2.2->fasterai==0.1.9) (1.15.0)\n",
            "Requirement already satisfied: pytz>=2017.3 in /usr/local/lib/python3.7/dist-packages (from pandas->fastai>=2.2->fasterai==0.1.9) (2022.1)\n",
            "Requirement already satisfied: threadpoolctl>=2.0.0 in /usr/local/lib/python3.7/dist-packages (from scikit-learn->fastai>=2.2->fasterai==0.1.9) (3.1.0)\n",
            "Requirement already satisfied: joblib>=0.11 in /usr/local/lib/python3.7/dist-packages (from scikit-learn->fastai>=2.2->fasterai==0.1.9) (1.1.0)\n",
            "Building wheels for collected packages: fasterai\n",
            "  Building wheel for fasterai (setup.py) ... \u001b[?25l\u001b[?25hdone\n",
            "  Created wheel for fasterai: filename=fasterai-0.1.9-py3-none-any.whl size=21311 sha256=637b7046c18447f81fd7606e430d15f19e4d2eedf367a72978aa3cd7d9508356\n",
            "  Stored in directory: /tmp/pip-ephem-wheel-cache-0e4eza0v/wheels/5e/e5/6d/0752d90e4fa5c28b88bdb877fce0ddb9384d40fa5d30cc29a9\n",
            "Successfully built fasterai\n",
            "Installing collected packages: fasterai\n",
            "Successfully installed fasterai-0.1.9\n",
            "Looking in indexes: https://pypi.org/simple, https://us-python.pkg.dev/colab-wheels/public/simple/\n",
            "Collecting git+https://github.com/nathanhubens/CUTE22.git\n",
            "  Cloning https://github.com/nathanhubens/CUTE22.git to /tmp/pip-req-build-217yow3e\n",
            "  Running command git clone -q https://github.com/nathanhubens/CUTE22.git /tmp/pip-req-build-217yow3e\n",
            "Building wheels for collected packages: cute\n",
            "  Building wheel for cute (setup.py) ... \u001b[?25l\u001b[?25hdone\n",
            "  Created wheel for cute: filename=cute-0.0.1-py3-none-any.whl size=2346 sha256=c7cbb063719e238d5561b46d64da313fc2bdff9d9754178299258dfac084e13a\n",
            "  Stored in directory: /tmp/pip-ephem-wheel-cache-vfu9i5q7/wheels/2d/f1/b6/c5e9a4d527ad452acc8b032487dc67edfb1ad9577c225a3630\n",
            "Successfully built cute\n",
            "Installing collected packages: cute\n",
            "Successfully installed cute-0.0.1\n"
          ]
        }
      ]
    },
    {
      "cell_type": "code",
      "execution_count": 2,
      "id": "4669f87c",
      "metadata": {
        "id": "4669f87c"
      },
      "outputs": [],
      "source": [
        "from fastai.vision.all import *\n",
        "from fasterai.sparse.all import *\n",
        "from fasterai.distill.all import *\n",
        "from cute.utils import *"
      ]
    },
    {
      "cell_type": "code",
      "execution_count": 3,
      "id": "15fc38d6",
      "metadata": {
        "id": "15fc38d6",
        "outputId": "3336f135-b170-4642-a1d1-78d4c79756d2",
        "colab": {
          "base_uri": "https://localhost:8080/",
          "height": 37
        }
      },
      "outputs": [
        {
          "output_type": "display_data",
          "data": {
            "text/plain": [
              "<IPython.core.display.HTML object>"
            ],
            "text/html": [
              "\n",
              "<style>\n",
              "    /* Turns off some styling */\n",
              "    progress {\n",
              "        /* gets rid of default border in Firefox and Opera. */\n",
              "        border: none;\n",
              "        /* Needs to be in here for Safari polyfill so background images work as expected. */\n",
              "        background-size: auto;\n",
              "    }\n",
              "    .progress-bar-interrupted, .progress-bar-interrupted::-webkit-progress-bar {\n",
              "        background: #F44336;\n",
              "    }\n",
              "</style>\n"
            ]
          },
          "metadata": {}
        },
        {
          "output_type": "display_data",
          "data": {
            "text/plain": [
              "<IPython.core.display.HTML object>"
            ],
            "text/html": [
              "\n",
              "    <div>\n",
              "      <progress value='341663744' class='' max='341663724' style='width:300px; height:20px; vertical-align: middle;'></progress>\n",
              "      100.00% [341663744/341663724 00:59<00:00]\n",
              "    </div>\n",
              "    "
            ]
          },
          "metadata": {}
        }
      ],
      "source": [
        "size, bs = 64, 32\n",
        "dls = get_dls(size, bs)"
      ]
    },
    {
      "cell_type": "code",
      "source": [
        "dls.show_batch()"
      ],
      "metadata": {
        "id": "KGf-nTML0DkZ",
        "outputId": "95c29fa9-8e3f-4b2d-9bf3-afa552bd71f8",
        "colab": {
          "base_uri": "https://localhost:8080/",
          "height": 536
        }
      },
      "id": "KGf-nTML0DkZ",
      "execution_count": 4,
      "outputs": [
        {
          "output_type": "display_data",
          "data": {
            "text/plain": [
              "<Figure size 648x648 with 9 Axes>"
            ],
            "image/png": "[encoded data removed]"
          },
          "metadata": {
            "needs_background": "light"
          }
        }
      ]
    },
    {
      "cell_type": "markdown",
      "id": "aba2375b",
      "metadata": {
        "id": "aba2375b"
      },
      "source": [
        "Let's start with a bit of context for the purpose of the demonstration. Imagine that we want to deploy a **VGG11** model on a mobile device that has limited storage capacity and that our task requires our model to run sufficiently fast. It is known that parameters and speed efficiency are not the strong points of **VGG11** but let's see what we can do with it."
      ]
    },
    {
      "cell_type": "markdown",
      "id": "4ba4137a",
      "metadata": {
        "id": "4ba4137a"
      },
      "source": [
        "Let's first check the number of parameters and the inference time of **VGG11**."
      ]
    },
    {
      "cell_type": "code",
      "execution_count": 5,
      "id": "d630d029",
      "metadata": {
        "id": "d630d029"
      },
      "outputs": [],
      "source": [
        "learn = Learner(dls, models.vgg11_bn(num_classes=10), metrics=[accuracy])"
      ]
    },
    {
      "cell_type": "markdown",
      "id": "7fee7ac1",
      "metadata": {
        "id": "7fee7ac1"
      },
      "source": [
        "So, **VGG11** has **128** millions of parameters"
      ]
    },
    {
      "cell_type": "code",
      "source": [
        "count_parameters(learn.model)"
      ],
      "metadata": {
        "colab": {
          "base_uri": "https://localhost:8080/"
        },
        "id": "wYHy6hmVGW32",
        "outputId": "38409212-7ad2-4d02-e11a-98f63a0cb80d"
      },
      "id": "wYHy6hmVGW32",
      "execution_count": 6,
      "outputs": [
        {
          "output_type": "stream",
          "name": "stdout",
          "text": [
            "Total parameters : 128,812,810\n"
          ]
        }
      ]
    },
    {
      "cell_type": "markdown",
      "id": "04b6840b",
      "metadata": {
        "id": "04b6840b"
      },
      "source": [
        "And takes around **3.5ms** to perform inference on a single image."
      ]
    },
    {
      "cell_type": "markdown",
      "source": [
        "And takes around **9.5ms** to perform inference on a single batch."
      ],
      "metadata": {
        "id": "d5_NjH66MsQl"
      },
      "id": "d5_NjH66MsQl"
    },
    {
      "cell_type": "code",
      "execution_count": 7,
      "id": "615c615c",
      "metadata": {
        "id": "615c615c"
      },
      "outputs": [],
      "source": [
        "model = learn.model.eval().cuda()\n",
        "x,y = dls.one_batch()"
      ]
    },
    {
      "cell_type": "code",
      "execution_count": 8,
      "id": "d084dee6",
      "metadata": {
        "id": "d084dee6",
        "outputId": "d2c9f53e-c1c8-40ad-d7d2-5e7b56737758",
        "colab": {
          "base_uri": "https://localhost:8080/"
        }
      },
      "outputs": [
        {
          "output_type": "stream",
          "name": "stdout",
          "text": [
            "100 loops, best of 5: 10.6 ms per loop\n"
          ]
        }
      ],
      "source": [
        "%%timeit -n 100\n",
        "model(x[0][None].cuda())"
      ]
    },
    {
      "cell_type": "markdown",
      "id": "f7422e50",
      "metadata": {
        "id": "f7422e50"
      },
      "source": [
        "We will first train our **VGG11** model to have a **baseline** of what performance we should expect from it."
      ]
    },
    {
      "cell_type": "code",
      "execution_count": 9,
      "id": "3c2f5a4a",
      "metadata": {
        "colab": {
          "base_uri": "https://localhost:8080/",
          "height": 206
        },
        "id": "3c2f5a4a",
        "outputId": "7917c5ae-25e6-4f47-c9a4-8796b262d0b2"
      },
      "outputs": [
        {
          "output_type": "display_data",
          "data": {
            "text/plain": [
              "<IPython.core.display.HTML object>"
            ],
            "text/html": [
              "\n",
              "<style>\n",
              "    /* Turns off some styling */\n",
              "    progress {\n",
              "        /* gets rid of default border in Firefox and Opera. */\n",
              "        border: none;\n",
              "        /* Needs to be in here for Safari polyfill so background images work as expected. */\n",
              "        background-size: auto;\n",
              "    }\n",
              "    .progress-bar-interrupted, .progress-bar-interrupted::-webkit-progress-bar {\n",
              "        background: #F44336;\n",
              "    }\n",
              "</style>\n"
            ]
          },
          "metadata": {}
        },
        {
          "output_type": "display_data",
          "data": {
            "text/plain": [
              "<IPython.core.display.HTML object>"
            ],
            "text/html": [
              "<table border=\"1\" class=\"dataframe\">\n",
              "  <thead>\n",
              "    <tr style=\"text-align: left;\">\n",
              "      <th>epoch</th>\n",
              "      <th>train_loss</th>\n",
              "      <th>valid_loss</th>\n",
              "      <th>accuracy</th>\n",
              "      <th>time</th>\n",
              "    </tr>\n",
              "  </thead>\n",
              "  <tbody>\n",
              "    <tr>\n",
              "      <td>0</td>\n",
              "      <td>1.947598</td>\n",
              "      <td>1.671272</td>\n",
              "      <td>0.447134</td>\n",
              "      <td>00:57</td>\n",
              "    </tr>\n",
              "    <tr>\n",
              "      <td>1</td>\n",
              "      <td>1.483474</td>\n",
              "      <td>1.438154</td>\n",
              "      <td>0.536561</td>\n",
              "      <td>00:56</td>\n",
              "    </tr>\n",
              "    <tr>\n",
              "      <td>2</td>\n",
              "      <td>1.205271</td>\n",
              "      <td>1.069178</td>\n",
              "      <td>0.652484</td>\n",
              "      <td>00:55</td>\n",
              "    </tr>\n",
              "    <tr>\n",
              "      <td>3</td>\n",
              "      <td>0.994274</td>\n",
              "      <td>0.923337</td>\n",
              "      <td>0.695796</td>\n",
              "      <td>00:55</td>\n",
              "    </tr>\n",
              "    <tr>\n",
              "      <td>4</td>\n",
              "      <td>0.950883</td>\n",
              "      <td>0.873275</td>\n",
              "      <td>0.716943</td>\n",
              "      <td>00:55</td>\n",
              "    </tr>\n",
              "  </tbody>\n",
              "</table>"
            ]
          },
          "metadata": {}
        }
      ],
      "source": [
        "learn.fit_one_cycle(5, 1e-4)"
      ]
    },
    {
      "cell_type": "markdown",
      "id": "d59c07eb",
      "metadata": {
        "id": "d59c07eb"
      },
      "source": [
        "So we would like our network to have comparable accuracy but fewer parameters and running faster... And the first technique that we will show how to use is called **Knowledge Distillation**"
      ]
    },
    {
      "cell_type": "markdown",
      "id": "5503c5d8",
      "metadata": {
        "id": "5503c5d8"
      },
      "source": [
        "---"
      ]
    },
    {
      "cell_type": "markdown",
      "id": "0f627246",
      "metadata": {
        "id": "0f627246"
      },
      "source": [
        "## **Knowledge Distillation**"
      ]
    },
    {
      "cell_type": "code",
      "execution_count": 10,
      "id": "fae4a926",
      "metadata": {
        "id": "fae4a926"
      },
      "outputs": [],
      "source": [
        "from fasterai.distill.all import *"
      ]
    },
    {
      "cell_type": "markdown",
      "id": "3e60472a",
      "metadata": {
        "id": "3e60472a"
      },
      "source": [
        "The first thing to do is to find a teacher, which can be any model, that preferrably performs well. We will chose **VGG19** for our demonstration. To make sure it performs better than our **VGG11** model, let's start from a pretrained version."
      ]
    },
    {
      "cell_type": "code",
      "source": [
        "teacher = Learner(dls, models.vgg19_bn(pretrained=True), metrics=[accuracy])\n",
        "teacher.model.classifier[6] = nn.Linear(4096, 10)"
      ],
      "metadata": {
        "id": "a8CsQ_bHmKYe",
        "colab": {
          "base_uri": "https://localhost:8080/",
          "height": 67,
          "referenced_widgets": [
            "bb090f9e74aa4ee8b55f9db1803fb4bd",
            "d59bce9778544483b64aa15eabf56bd0",
            "7cd5b920c486411d95449103d76a8caf",
            "ea4a901ce827494ca2823b56ca466710",
            "433e939089ea47a998e2719e8a8257e3",
            "c814ca8e644f4f89abb86cc7265aff50",
            "cc8bee42a54f42b0a0bea6e3a743a4fd",
            "6e2c06e70ccc47cdb289a85b28243510",
            "29a1e7b699ab44e0b26f937d417a17de",
            "56f61d33fed24191b9f70904b5cae96a",
            "346d712146d34f21bbc3eb41b2b3fc0f"
          ]
        },
        "outputId": "a039ffe1-d422-43c0-ffdd-2b3a01b828e7"
      },
      "id": "a8CsQ_bHmKYe",
      "execution_count": 11,
      "outputs": [
        {
          "output_type": "stream",
          "name": "stderr",
          "text": [
            "Downloading: \"https://download.pytorch.org/models/vgg19_bn-c79401a0.pth\" to /root/.cache/torch/hub/checkpoints/vgg19_bn-c79401a0.pth\n"
          ]
        },
        {
          "output_type": "display_data",
          "data": {
            "text/plain": [
              "  0%|          | 0.00/548M [00:00<?, ?B/s]"
            ],
            "application/vnd.jupyter.widget-view+json": {
              "version_major": 2,
              "version_minor": 0,
              "model_id": "bb090f9e74aa4ee8b55f9db1803fb4bd"
            }
          },
          "metadata": {}
        }
      ]
    },
    {
      "cell_type": "code",
      "execution_count": 12,
      "id": "d4be1f0a",
      "metadata": {
        "id": "d4be1f0a",
        "outputId": "d7c332e3-d632-46eb-bb56-8ef94a36db41",
        "colab": {
          "base_uri": "https://localhost:8080/",
          "height": 143
        }
      },
      "outputs": [
        {
          "output_type": "display_data",
          "data": {
            "text/plain": [
              "<IPython.core.display.HTML object>"
            ],
            "text/html": [
              "\n",
              "<style>\n",
              "    /* Turns off some styling */\n",
              "    progress {\n",
              "        /* gets rid of default border in Firefox and Opera. */\n",
              "        border: none;\n",
              "        /* Needs to be in here for Safari polyfill so background images work as expected. */\n",
              "        background-size: auto;\n",
              "    }\n",
              "    .progress-bar-interrupted, .progress-bar-interrupted::-webkit-progress-bar {\n",
              "        background: #F44336;\n",
              "    }\n",
              "</style>\n"
            ]
          },
          "metadata": {}
        },
        {
          "output_type": "display_data",
          "data": {
            "text/plain": [
              "<IPython.core.display.HTML object>"
            ],
            "text/html": [
              "<table border=\"1\" class=\"dataframe\">\n",
              "  <thead>\n",
              "    <tr style=\"text-align: left;\">\n",
              "      <th>epoch</th>\n",
              "      <th>train_loss</th>\n",
              "      <th>valid_loss</th>\n",
              "      <th>accuracy</th>\n",
              "      <th>time</th>\n",
              "    </tr>\n",
              "  </thead>\n",
              "  <tbody>\n",
              "    <tr>\n",
              "      <td>0</td>\n",
              "      <td>0.565604</td>\n",
              "      <td>0.450512</td>\n",
              "      <td>0.863440</td>\n",
              "      <td>01:00</td>\n",
              "    </tr>\n",
              "    <tr>\n",
              "      <td>1</td>\n",
              "      <td>0.348647</td>\n",
              "      <td>0.274276</td>\n",
              "      <td>0.911592</td>\n",
              "      <td>01:00</td>\n",
              "    </tr>\n",
              "    <tr>\n",
              "      <td>2</td>\n",
              "      <td>0.250260</td>\n",
              "      <td>0.258355</td>\n",
              "      <td>0.918726</td>\n",
              "      <td>01:00</td>\n",
              "    </tr>\n",
              "  </tbody>\n",
              "</table>"
            ]
          },
          "metadata": {}
        }
      ],
      "source": [
        "teacher.fit_one_cycle(3, 1e-4)"
      ]
    },
    {
      "cell_type": "markdown",
      "id": "c3e84276",
      "metadata": {
        "id": "c3e84276"
      },
      "source": [
        "Our teacher has over **90%** of accuracy which is pretty good, it is ready to take a student under its wing. So let's create our student model and train it with the **Knowledge Distillation** callback:"
      ]
    },
    {
      "cell_type": "code",
      "source": [
        "kd = KnowledgeDistillationCallback(teacher.model, SoftTarget, weight=0.5)"
      ],
      "metadata": {
        "id": "ah70tPtumtrm"
      },
      "id": "ah70tPtumtrm",
      "execution_count": 13,
      "outputs": []
    },
    {
      "cell_type": "markdown",
      "source": [
        "If you want to use KD on the features, remember to use the `get_model_layers` function to get the layer names of your student/teacher."
      ],
      "metadata": {
        "id": "sXN2jJ1Ts3i3"
      },
      "id": "sXN2jJ1Ts3i3"
    },
    {
      "cell_type": "code",
      "execution_count": 14,
      "id": "3e0a3004",
      "metadata": {
        "id": "3e0a3004",
        "outputId": "fe620b8d-4524-4568-b5d4-b81a98c2283c",
        "colab": {
          "base_uri": "https://localhost:8080/",
          "height": 206
        }
      },
      "outputs": [
        {
          "output_type": "display_data",
          "data": {
            "text/plain": [
              "<IPython.core.display.HTML object>"
            ],
            "text/html": [
              "\n",
              "<style>\n",
              "    /* Turns off some styling */\n",
              "    progress {\n",
              "        /* gets rid of default border in Firefox and Opera. */\n",
              "        border: none;\n",
              "        /* Needs to be in here for Safari polyfill so background images work as expected. */\n",
              "        background-size: auto;\n",
              "    }\n",
              "    .progress-bar-interrupted, .progress-bar-interrupted::-webkit-progress-bar {\n",
              "        background: #F44336;\n",
              "    }\n",
              "</style>\n"
            ]
          },
          "metadata": {}
        },
        {
          "output_type": "display_data",
          "data": {
            "text/plain": [
              "<IPython.core.display.HTML object>"
            ],
            "text/html": [
              "<table border=\"1\" class=\"dataframe\">\n",
              "  <thead>\n",
              "    <tr style=\"text-align: left;\">\n",
              "      <th>epoch</th>\n",
              "      <th>train_loss</th>\n",
              "      <th>valid_loss</th>\n",
              "      <th>accuracy</th>\n",
              "      <th>time</th>\n",
              "    </tr>\n",
              "  </thead>\n",
              "  <tbody>\n",
              "    <tr>\n",
              "      <td>0</td>\n",
              "      <td>7.875354</td>\n",
              "      <td>6.565719</td>\n",
              "      <td>0.436433</td>\n",
              "      <td>01:09</td>\n",
              "    </tr>\n",
              "    <tr>\n",
              "      <td>1</td>\n",
              "      <td>5.077483</td>\n",
              "      <td>4.568491</td>\n",
              "      <td>0.586242</td>\n",
              "      <td>01:17</td>\n",
              "    </tr>\n",
              "    <tr>\n",
              "      <td>2</td>\n",
              "      <td>4.257666</td>\n",
              "      <td>3.702543</td>\n",
              "      <td>0.650701</td>\n",
              "      <td>01:09</td>\n",
              "    </tr>\n",
              "    <tr>\n",
              "      <td>3</td>\n",
              "      <td>3.581180</td>\n",
              "      <td>2.843118</td>\n",
              "      <td>0.719236</td>\n",
              "      <td>01:09</td>\n",
              "    </tr>\n",
              "    <tr>\n",
              "      <td>4</td>\n",
              "      <td>3.302445</td>\n",
              "      <td>2.683189</td>\n",
              "      <td>0.727643</td>\n",
              "      <td>01:09</td>\n",
              "    </tr>\n",
              "  </tbody>\n",
              "</table>"
            ]
          },
          "metadata": {}
        }
      ],
      "source": [
        "student = Learner(dls, models.vgg11_bn(num_classes=10), metrics=[accuracy])\n",
        "student.fit_one_cycle(5, 1e-4, cbs=kd)"
      ]
    },
    {
      "cell_type": "code",
      "source": [
        "# Saving Checkpoint\n",
        "torch.save(student.model.state_dict(), 'weight_kd.pth')"
      ],
      "metadata": {
        "id": "iMfQYPx1m-eq"
      },
      "id": "iMfQYPx1m-eq",
      "execution_count": 15,
      "outputs": []
    },
    {
      "cell_type": "markdown",
      "id": "2dc60d7d",
      "metadata": {
        "id": "2dc60d7d"
      },
      "source": [
        "And we can see that indeed, the knowledge of the teacher was useful for the student, as it is clearly overperforming the vanilla **VGG11**."
      ]
    },
    {
      "cell_type": "markdown",
      "id": "422f2e6f",
      "metadata": {
        "id": "422f2e6f"
      },
      "source": [
        "---"
      ]
    },
    {
      "cell_type": "markdown",
      "id": "7c33622f",
      "metadata": {
        "id": "7c33622f"
      },
      "source": [
        "<br>"
      ]
    },
    {
      "cell_type": "markdown",
      "id": "4d6b17b3",
      "metadata": {
        "id": "4d6b17b3"
      },
      "source": [
        "## **Sparsifying**"
      ]
    },
    {
      "cell_type": "code",
      "execution_count": 17,
      "id": "594743cd",
      "metadata": {
        "id": "594743cd"
      },
      "outputs": [],
      "source": [
        "#hide\n",
        "from fasterai.sparse.all import *"
      ]
    },
    {
      "cell_type": "code",
      "source": [
        "# Optional: if you want to start the experiment again with previous weights\n",
        "student.model.load_state_dict(torch.load('weight_kd.pth'))"
      ],
      "metadata": {
        "id": "2W8OykmfpAoS",
        "outputId": "11664ae5-e695-42cc-81fc-33af059d7f7b",
        "colab": {
          "base_uri": "https://localhost:8080/"
        }
      },
      "id": "2W8OykmfpAoS",
      "execution_count": 25,
      "outputs": [
        {
          "output_type": "execute_result",
          "data": {
            "text/plain": [
              "<All keys matched successfully>"
            ]
          },
          "metadata": {},
          "execution_count": 25
        }
      ]
    },
    {
      "cell_type": "code",
      "source": [
        "sp_cb = SparsifyCallback(sparsity=20, granularity='filter', context='local', criteria=large_final, schedule=cos)"
      ],
      "metadata": {
        "id": "QHhLvMFcpS5u"
      },
      "id": "QHhLvMFcpS5u",
      "execution_count": 20,
      "outputs": []
    },
    {
      "cell_type": "code",
      "execution_count": 21,
      "id": "b7fe56b6",
      "metadata": {
        "id": "b7fe56b6",
        "outputId": "5e89be44-4837-4822-9c23-9236c7655269",
        "colab": {
          "base_uri": "https://localhost:8080/",
          "height": 492
        }
      },
      "outputs": [
        {
          "output_type": "stream",
          "name": "stdout",
          "text": [
            "Pruning of filter until a sparsity of [20]%\n",
            "Saving Weights at epoch 0\n"
          ]
        },
        {
          "output_type": "display_data",
          "data": {
            "text/plain": [
              "<IPython.core.display.HTML object>"
            ],
            "text/html": [
              "\n",
              "<style>\n",
              "    /* Turns off some styling */\n",
              "    progress {\n",
              "        /* gets rid of default border in Firefox and Opera. */\n",
              "        border: none;\n",
              "        /* Needs to be in here for Safari polyfill so background images work as expected. */\n",
              "        background-size: auto;\n",
              "    }\n",
              "    .progress-bar-interrupted, .progress-bar-interrupted::-webkit-progress-bar {\n",
              "        background: #F44336;\n",
              "    }\n",
              "</style>\n"
            ]
          },
          "metadata": {}
        },
        {
          "output_type": "display_data",
          "data": {
            "text/plain": [
              "<IPython.core.display.HTML object>"
            ],
            "text/html": [
              "<table border=\"1\" class=\"dataframe\">\n",
              "  <thead>\n",
              "    <tr style=\"text-align: left;\">\n",
              "      <th>epoch</th>\n",
              "      <th>train_loss</th>\n",
              "      <th>valid_loss</th>\n",
              "      <th>accuracy</th>\n",
              "      <th>time</th>\n",
              "    </tr>\n",
              "  </thead>\n",
              "  <tbody>\n",
              "    <tr>\n",
              "      <td>0</td>\n",
              "      <td>0.885033</td>\n",
              "      <td>0.874142</td>\n",
              "      <td>0.710828</td>\n",
              "      <td>00:56</td>\n",
              "    </tr>\n",
              "    <tr>\n",
              "      <td>1</td>\n",
              "      <td>0.931558</td>\n",
              "      <td>0.877461</td>\n",
              "      <td>0.719745</td>\n",
              "      <td>00:56</td>\n",
              "    </tr>\n",
              "    <tr>\n",
              "      <td>2</td>\n",
              "      <td>0.981665</td>\n",
              "      <td>0.893665</td>\n",
              "      <td>0.714650</td>\n",
              "      <td>00:56</td>\n",
              "    </tr>\n",
              "    <tr>\n",
              "      <td>3</td>\n",
              "      <td>0.992095</td>\n",
              "      <td>0.890901</td>\n",
              "      <td>0.708535</td>\n",
              "      <td>00:56</td>\n",
              "    </tr>\n",
              "    <tr>\n",
              "      <td>4</td>\n",
              "      <td>0.940297</td>\n",
              "      <td>0.890699</td>\n",
              "      <td>0.708535</td>\n",
              "      <td>00:56</td>\n",
              "    </tr>\n",
              "  </tbody>\n",
              "</table>"
            ]
          },
          "metadata": {}
        },
        {
          "output_type": "stream",
          "name": "stdout",
          "text": [
            "Sparsity at the end of epoch 0: [1.91]%\n",
            "Sparsity at the end of epoch 1: [6.91]%\n",
            "Sparsity at the end of epoch 2: [13.09]%\n",
            "Sparsity at the end of epoch 3: [18.09]%\n",
            "Sparsity at the end of epoch 4: [20.0]%\n",
            "Final Sparsity: [20.0]%\n",
            "Sparsity in Conv2d 2: 20.31%\n",
            "Sparsity in Conv2d 6: 20.31%\n",
            "Sparsity in Conv2d 10: 19.92%\n",
            "Sparsity in Conv2d 13: 19.92%\n",
            "Sparsity in Conv2d 17: 20.12%\n",
            "Sparsity in Conv2d 20: 20.12%\n",
            "Sparsity in Conv2d 24: 20.12%\n",
            "Sparsity in Conv2d 27: 20.12%\n"
          ]
        }
      ],
      "source": [
        "student.fit(5, 1e-5, cbs=sp_cb)"
      ]
    },
    {
      "cell_type": "code",
      "source": [
        "# Saving Checkpoint\n",
        "torch.save(student.model.state_dict(), 'weight_sp.pth')"
      ],
      "metadata": {
        "id": "cPeHYsUcnJF2"
      },
      "id": "cPeHYsUcnJF2",
      "execution_count": 22,
      "outputs": []
    },
    {
      "cell_type": "markdown",
      "id": "5cce8e37",
      "metadata": {
        "id": "5cce8e37"
      },
      "source": [
        "<br>"
      ]
    },
    {
      "cell_type": "markdown",
      "id": "9511cfb0",
      "metadata": {
        "id": "9511cfb0"
      },
      "source": [
        "Let's now see how much we gained in terms of speed. Because we removed **40%** of convolution filters, we should expect crazy speed-up right ? "
      ]
    },
    {
      "cell_type": "code",
      "execution_count": 37,
      "id": "21766e92",
      "metadata": {
        "id": "21766e92"
      },
      "outputs": [],
      "source": [
        "model = student.model.eval()"
      ]
    },
    {
      "cell_type": "code",
      "execution_count": 38,
      "id": "a4800518",
      "metadata": {
        "id": "a4800518",
        "outputId": "39af5892-ea1a-4212-a659-0fcf3dc55f7d",
        "colab": {
          "base_uri": "https://localhost:8080/"
        }
      },
      "outputs": [
        {
          "output_type": "stream",
          "name": "stdout",
          "text": [
            "100 loops, best of 5: 11.1 ms per loop\n"
          ]
        }
      ],
      "source": [
        "%%timeit -n 100\n",
        "model(x[0][None].cuda())"
      ]
    },
    {
      "cell_type": "markdown",
      "id": "270d5f94",
      "metadata": {
        "id": "270d5f94"
      },
      "source": [
        "Well actually, no. We didn't remove any parameters, we just replaced some by zeroes, remember? The amount of parameters is still the same:"
      ]
    },
    {
      "cell_type": "code",
      "execution_count": 29,
      "id": "c6590ee4",
      "metadata": {
        "id": "c6590ee4",
        "outputId": "79008f30-4753-41a3-de7d-4ad59f589a0d",
        "colab": {
          "base_uri": "https://localhost:8080/"
        }
      },
      "outputs": [
        {
          "output_type": "stream",
          "name": "stdout",
          "text": [
            "Total parameters : 128,812,810\n"
          ]
        }
      ],
      "source": [
        "count_parameters(model)"
      ]
    },
    {
      "cell_type": "markdown",
      "id": "7d4be3ee",
      "metadata": {
        "id": "7d4be3ee"
      },
      "source": [
        "Which leads us to the next section."
      ]
    },
    {
      "cell_type": "markdown",
      "id": "4aa03dcd",
      "metadata": {
        "id": "4aa03dcd"
      },
      "source": [
        "---"
      ]
    },
    {
      "cell_type": "markdown",
      "id": "61dc00ce",
      "metadata": {
        "id": "61dc00ce"
      },
      "source": [
        "## **Pruning**"
      ]
    },
    {
      "cell_type": "markdown",
      "id": "7cf28720",
      "metadata": {
        "id": "7cf28720"
      },
      "source": [
        "Why don't we see any acceleration even though we removed half of the parameters? That's because natively, our **GPU** does not know that our matrices are sparse and thus isn't able to accelerate the computation. The easiest work around, is to **physically** remove the parameters we zeroed-out. But this operation requires to change the architecture of the network. "
      ]
    },
    {
      "cell_type": "markdown",
      "id": "5a02d296",
      "metadata": {
        "id": "5a02d296"
      },
      "source": [
        "> Note: This operation should be lossless as it only removes filters that already do not participate in the network anymore."
      ]
    },
    {
      "cell_type": "markdown",
      "id": "97138db9",
      "metadata": {
        "id": "97138db9"
      },
      "source": [
        "So in the case of our example, it gives: "
      ]
    },
    {
      "cell_type": "code",
      "source": [
        "from fasterai.sparse.pruner import Pruner"
      ],
      "metadata": {
        "id": "gUkzagaZwdPj"
      },
      "id": "gUkzagaZwdPj",
      "execution_count": 30,
      "outputs": []
    },
    {
      "cell_type": "code",
      "execution_count": 31,
      "id": "40b59720",
      "metadata": {
        "id": "40b59720"
      },
      "outputs": [],
      "source": [
        "pruner = Pruner()\n",
        "pruned_model = pruner.prune_model(student.model)"
      ]
    },
    {
      "cell_type": "markdown",
      "id": "1e0f467f",
      "metadata": {
        "id": "1e0f467f"
      },
      "source": [
        "Let's now see what our model is capable of now:"
      ]
    },
    {
      "cell_type": "code",
      "execution_count": 32,
      "id": "b7346628",
      "metadata": {
        "id": "b7346628",
        "outputId": "206ebaf1-b23a-4b6b-b3ee-70725b71084b",
        "colab": {
          "base_uri": "https://localhost:8080/"
        }
      },
      "outputs": [
        {
          "output_type": "stream",
          "name": "stdout",
          "text": [
            "Total parameters : 104,806,713\n"
          ]
        }
      ],
      "source": [
        "count_parameters(pruned_model)"
      ]
    },
    {
      "cell_type": "markdown",
      "id": "4a27e756",
      "metadata": {
        "id": "4a27e756"
      },
      "source": [
        "And in terms of speed:"
      ]
    },
    {
      "cell_type": "code",
      "execution_count": 34,
      "id": "405f77ab",
      "metadata": {
        "id": "405f77ab",
        "outputId": "44a63211-fe96-4fa9-82d2-d4ba97d7cc93",
        "colab": {
          "base_uri": "https://localhost:8080/"
        }
      },
      "outputs": [
        {
          "output_type": "stream",
          "name": "stdout",
          "text": [
            "100 loops, best of 5: 3.59 ms per loop\n"
          ]
        }
      ],
      "source": [
        "%%timeit\n",
        "pruned_model(x[0][None].cuda())"
      ]
    },
    {
      "cell_type": "markdown",
      "id": "d5db4fda",
      "metadata": {
        "id": "d5db4fda"
      },
      "source": [
        "<br>"
      ]
    },
    {
      "cell_type": "markdown",
      "id": "00a98866",
      "metadata": {
        "id": "00a98866"
      },
      "source": [
        "Yay ! Now we can talk ! Let's just double check that our accuracy is unchanged and that we didn't mess up somewhere:"
      ]
    },
    {
      "cell_type": "code",
      "execution_count": 39,
      "id": "9908a347",
      "metadata": {
        "id": "9908a347",
        "outputId": "f0b82ccb-cd54-4bda-a115-91f55f7b5619",
        "colab": {
          "base_uri": "https://localhost:8080/",
          "height": 35
        }
      },
      "outputs": [
        {
          "output_type": "display_data",
          "data": {
            "text/plain": [
              "<IPython.core.display.HTML object>"
            ],
            "text/html": [
              "\n",
              "<style>\n",
              "    /* Turns off some styling */\n",
              "    progress {\n",
              "        /* gets rid of default border in Firefox and Opera. */\n",
              "        border: none;\n",
              "        /* Needs to be in here for Safari polyfill so background images work as expected. */\n",
              "        background-size: auto;\n",
              "    }\n",
              "    .progress-bar-interrupted, .progress-bar-interrupted::-webkit-progress-bar {\n",
              "        background: #F44336;\n",
              "    }\n",
              "</style>\n"
            ]
          },
          "metadata": {}
        },
        {
          "output_type": "display_data",
          "data": {
            "text/plain": [
              "<IPython.core.display.HTML object>"
            ],
            "text/html": [
              ""
            ]
          },
          "metadata": {}
        },
        {
          "output_type": "execute_result",
          "data": {
            "text/plain": [
              "(#2) [0.8906990885734558,0.7085350155830383]"
            ]
          },
          "metadata": {},
          "execution_count": 39
        }
      ],
      "source": [
        "pruned_learner = Learner(dls, pruned_model, metrics=[accuracy])\n",
        "pruned_learner.validate()"
      ]
    },
    {
      "cell_type": "markdown",
      "id": "95e346f8",
      "metadata": {
        "id": "95e346f8"
      },
      "source": [
        "<br>"
      ]
    },
    {
      "cell_type": "code",
      "source": [
        "# Saving Checkpoint\n",
        "torch.save(pruned_learner.model.state_dict(), 'weight_pruned.pth')"
      ],
      "metadata": {
        "id": "YWF6ALDBnM74"
      },
      "id": "YWF6ALDBnM74",
      "execution_count": 40,
      "outputs": []
    },
    {
      "cell_type": "markdown",
      "id": "8829ab1a",
      "metadata": {
        "id": "8829ab1a"
      },
      "source": [
        "And there is actually more that we can do ! Let's keep going ! "
      ]
    },
    {
      "cell_type": "markdown",
      "id": "49b277eb",
      "metadata": {
        "id": "49b277eb"
      },
      "source": [
        "---"
      ]
    },
    {
      "cell_type": "markdown",
      "id": "3d0c0ab6",
      "metadata": {
        "id": "3d0c0ab6"
      },
      "source": [
        "## **Batch Normalization Folding**"
      ]
    },
    {
      "cell_type": "markdown",
      "id": "1825f7f8",
      "metadata": {
        "id": "1825f7f8"
      },
      "source": [
        "> Note: This operation should also be lossless as it redefines the convolution to take batch norm into account and is thus equivalent."
      ]
    },
    {
      "cell_type": "code",
      "execution_count": 41,
      "id": "fe83ec7e",
      "metadata": {
        "id": "fe83ec7e"
      },
      "outputs": [],
      "source": [
        "from fasterai.misc.bn_folding import *"
      ]
    },
    {
      "cell_type": "markdown",
      "id": "47386fcb",
      "metadata": {
        "id": "47386fcb"
      },
      "source": [
        "Let's do this with our model ! "
      ]
    },
    {
      "cell_type": "code",
      "source": [
        "bn_folder = BN_Folder()"
      ],
      "metadata": {
        "id": "GpDlXsukxE3Z"
      },
      "id": "GpDlXsukxE3Z",
      "execution_count": 42,
      "outputs": []
    },
    {
      "cell_type": "code",
      "execution_count": 43,
      "id": "889364d2",
      "metadata": {
        "id": "889364d2"
      },
      "outputs": [],
      "source": [
        "folded_model = bn_folder.fold(pruned_learner.model)"
      ]
    },
    {
      "cell_type": "markdown",
      "id": "75ac1b36",
      "metadata": {
        "id": "75ac1b36"
      },
      "source": [
        "The parameters drop is generally not that significant, especially in a network such as **VGG** where almost all parameters are contained in the FC layers but, hey, any gain is good to take."
      ]
    },
    {
      "cell_type": "code",
      "execution_count": 44,
      "id": "103c4713",
      "metadata": {
        "id": "103c4713",
        "outputId": "d54a3469-995c-4f54-de02-7f2c5c5847f1",
        "colab": {
          "base_uri": "https://localhost:8080/"
        }
      },
      "outputs": [
        {
          "output_type": "stream",
          "name": "stdout",
          "text": [
            "Total parameters : 104,802,315\n"
          ]
        }
      ],
      "source": [
        "count_parameters(folded_model)"
      ]
    },
    {
      "cell_type": "markdown",
      "id": "a1986747",
      "metadata": {
        "id": "a1986747"
      },
      "source": [
        "Now that we removed the batch normalization layers, we should again see a speedup."
      ]
    },
    {
      "cell_type": "code",
      "execution_count": 45,
      "id": "bf64482b",
      "metadata": {
        "id": "bf64482b",
        "outputId": "573d2f75-93ba-40fd-d10f-f1cd160ec1c7",
        "colab": {
          "base_uri": "https://localhost:8080/"
        }
      },
      "outputs": [
        {
          "output_type": "stream",
          "name": "stdout",
          "text": [
            "100 loops, best of 5: 2.7 ms per loop\n"
          ]
        }
      ],
      "source": [
        "%%timeit -n 100\n",
        "folded_model(x[0][None].cuda())"
      ]
    },
    {
      "cell_type": "markdown",
      "id": "c4081c08",
      "metadata": {
        "id": "c4081c08"
      },
      "source": [
        "Again, let's double check that we didn't mess up somewhere:"
      ]
    },
    {
      "cell_type": "code",
      "execution_count": 46,
      "id": "d1aa8b13",
      "metadata": {
        "id": "d1aa8b13",
        "outputId": "49179465-5054-4449-99cc-c680a0844b1b",
        "colab": {
          "base_uri": "https://localhost:8080/",
          "height": 35
        }
      },
      "outputs": [
        {
          "output_type": "display_data",
          "data": {
            "text/plain": [
              "<IPython.core.display.HTML object>"
            ],
            "text/html": [
              "\n",
              "<style>\n",
              "    /* Turns off some styling */\n",
              "    progress {\n",
              "        /* gets rid of default border in Firefox and Opera. */\n",
              "        border: none;\n",
              "        /* Needs to be in here for Safari polyfill so background images work as expected. */\n",
              "        background-size: auto;\n",
              "    }\n",
              "    .progress-bar-interrupted, .progress-bar-interrupted::-webkit-progress-bar {\n",
              "        background: #F44336;\n",
              "    }\n",
              "</style>\n"
            ]
          },
          "metadata": {}
        },
        {
          "output_type": "display_data",
          "data": {
            "text/plain": [
              "<IPython.core.display.HTML object>"
            ],
            "text/html": [
              ""
            ]
          },
          "metadata": {}
        },
        {
          "output_type": "execute_result",
          "data": {
            "text/plain": [
              "(#2) [0.8906992673873901,0.7085350155830383]"
            ]
          },
          "metadata": {},
          "execution_count": 46
        }
      ],
      "source": [
        "folded_learner = Learner(dls, folded_model, metrics=[accuracy])\n",
        "folded_learner.validate()"
      ]
    },
    {
      "cell_type": "code",
      "source": [
        "# Saving Checkpoint\n",
        "torch.save(folded_learner.model.state_dict(), 'weight_bn.pth')"
      ],
      "metadata": {
        "id": "sjamvUYSzdsf"
      },
      "id": "sjamvUYSzdsf",
      "execution_count": 47,
      "outputs": []
    },
    {
      "cell_type": "markdown",
      "id": "37add588",
      "metadata": {
        "id": "37add588"
      },
      "source": [
        "---"
      ]
    },
    {
      "cell_type": "markdown",
      "id": "1c617c7d",
      "metadata": {
        "id": "1c617c7d"
      },
      "source": [
        "## **FC Layers Factorization**"
      ]
    },
    {
      "cell_type": "markdown",
      "id": "3a7f923f",
      "metadata": {
        "id": "3a7f923f"
      },
      "source": [
        "> Note: This time, the decomposition is not exact, so we expect a drop in performance afterwards and further retraining will be needed."
      ]
    },
    {
      "cell_type": "markdown",
      "id": "81c05749",
      "metadata": {
        "id": "81c05749"
      },
      "source": [
        "Which gives with our example, if we only want to keep half of them:"
      ]
    },
    {
      "cell_type": "code",
      "execution_count": 48,
      "id": "d7b20be4",
      "metadata": {
        "id": "d7b20be4"
      },
      "outputs": [],
      "source": [
        "from fasterai.misc.fc_decomposer import *"
      ]
    },
    {
      "cell_type": "code",
      "source": [
        "# Optional: if you want to start the experiment again with previous weights\n",
        "folded_learner.model.load_state_dict(torch.load('weight_bn.pth'))"
      ],
      "metadata": {
        "id": "XmEyFwoQzn9A",
        "colab": {
          "base_uri": "https://localhost:8080/"
        },
        "outputId": "5ccb1440-ef11-4428-92ac-af6b4af2bc7b"
      },
      "id": "XmEyFwoQzn9A",
      "execution_count": 57,
      "outputs": [
        {
          "output_type": "execute_result",
          "data": {
            "text/plain": [
              "<All keys matched successfully>"
            ]
          },
          "metadata": {},
          "execution_count": 57
        }
      ]
    },
    {
      "cell_type": "code",
      "execution_count": 59,
      "id": "f155ed57",
      "metadata": {
        "id": "f155ed57"
      },
      "outputs": [],
      "source": [
        "fc_decomposer = FC_Decomposer()\n",
        "decomposed_model = fc_decomposer.decompose(folded_learner.model, percent_removed=0.5)"
      ]
    },
    {
      "cell_type": "markdown",
      "id": "62d14c98",
      "metadata": {
        "id": "62d14c98"
      },
      "source": [
        "How many parameters do we have now ?"
      ]
    },
    {
      "cell_type": "code",
      "execution_count": 60,
      "id": "c7c4625a",
      "metadata": {
        "id": "c7c4625a",
        "outputId": "42d2ef76-81c9-4f57-b459-9e1b1edfc86a",
        "colab": {
          "base_uri": "https://localhost:8080/"
        }
      },
      "outputs": [
        {
          "output_type": "stream",
          "name": "stdout",
          "text": [
            "Total parameters : 72,126,525\n"
          ]
        }
      ],
      "source": [
        "count_parameters(decomposed_model)"
      ]
    },
    {
      "cell_type": "markdown",
      "id": "c717dba4",
      "metadata": {
        "id": "c717dba4"
      },
      "source": [
        "And how much time did we gain ? "
      ]
    },
    {
      "cell_type": "code",
      "execution_count": 61,
      "id": "1b7a792a",
      "metadata": {
        "id": "1b7a792a"
      },
      "outputs": [],
      "source": [
        "decomposed_model = decomposed_model.eval()"
      ]
    },
    {
      "cell_type": "code",
      "execution_count": 62,
      "id": "5584903c",
      "metadata": {
        "id": "5584903c",
        "outputId": "7c063fe0-7fbd-4a50-d581-f4da556696e7",
        "colab": {
          "base_uri": "https://localhost:8080/"
        }
      },
      "outputs": [
        {
          "output_type": "stream",
          "name": "stdout",
          "text": [
            "100 loops, best of 5: 2.8 ms per loop\n"
          ]
        }
      ],
      "source": [
        "%%timeit -n 100\n",
        "decomposed_model(x[0][None].cuda())"
      ]
    },
    {
      "cell_type": "markdown",
      "id": "586f5299",
      "metadata": {
        "id": "586f5299"
      },
      "source": [
        "<br>"
      ]
    },
    {
      "cell_type": "code",
      "source": [
        "# Saving Checkpoint\n",
        "torch.save(decomposed_model.state_dict(), 'weight_dec.pth')"
      ],
      "metadata": {
        "id": "hITzTyekzw0a"
      },
      "id": "hITzTyekzw0a",
      "execution_count": 63,
      "outputs": []
    },
    {
      "cell_type": "code",
      "source": [
        "final_learner = Learner(dls, decomposed_model, metrics=[accuracy])"
      ],
      "metadata": {
        "id": "_25rH5Yzl6RP"
      },
      "id": "_25rH5Yzl6RP",
      "execution_count": 64,
      "outputs": []
    },
    {
      "cell_type": "code",
      "source": [
        "final_learner.validate()"
      ],
      "metadata": {
        "colab": {
          "base_uri": "https://localhost:8080/",
          "height": 35
        },
        "id": "vYYXlzwCl-wc",
        "outputId": "42ef0bcb-6087-4c9e-9289-45f797e9f222"
      },
      "id": "vYYXlzwCl-wc",
      "execution_count": 65,
      "outputs": [
        {
          "output_type": "display_data",
          "data": {
            "text/plain": [
              "<IPython.core.display.HTML object>"
            ],
            "text/html": [
              "\n",
              "<style>\n",
              "    /* Turns off some styling */\n",
              "    progress {\n",
              "        /* gets rid of default border in Firefox and Opera. */\n",
              "        border: none;\n",
              "        /* Needs to be in here for Safari polyfill so background images work as expected. */\n",
              "        background-size: auto;\n",
              "    }\n",
              "    .progress-bar-interrupted, .progress-bar-interrupted::-webkit-progress-bar {\n",
              "        background: #F44336;\n",
              "    }\n",
              "</style>\n"
            ]
          },
          "metadata": {}
        },
        {
          "output_type": "display_data",
          "data": {
            "text/plain": [
              "<IPython.core.display.HTML object>"
            ],
            "text/html": [
              ""
            ]
          },
          "metadata": {}
        },
        {
          "output_type": "execute_result",
          "data": {
            "text/plain": [
              "(#2) [1.3527679443359375,0.4881528615951538]"
            ]
          },
          "metadata": {},
          "execution_count": 65
        }
      ]
    },
    {
      "cell_type": "markdown",
      "id": "de463984",
      "metadata": {
        "id": "de463984"
      },
      "source": [
        "However, this technique is an approximation so it is not lossless, so we should retrain our network a bit to recover its performance."
      ]
    },
    {
      "cell_type": "code",
      "source": [
        "# Optional: if you want to start the experiment again with previous weights\n",
        "final_learner.model.load_state_dict(torch.load('weight_dec.pth'))"
      ],
      "metadata": {
        "id": "x0WK-82az0kc",
        "colab": {
          "base_uri": "https://localhost:8080/"
        },
        "outputId": "88cbc33d-f1b2-4416-fb16-82004e71a49c"
      },
      "id": "x0WK-82az0kc",
      "execution_count": 66,
      "outputs": [
        {
          "output_type": "execute_result",
          "data": {
            "text/plain": [
              "<All keys matched successfully>"
            ]
          },
          "metadata": {},
          "execution_count": 66
        }
      ]
    },
    {
      "cell_type": "code",
      "execution_count": 67,
      "id": "d17d2ded",
      "metadata": {
        "id": "d17d2ded",
        "outputId": "7c42b781-aa22-47aa-dfba-b924e57d3036",
        "colab": {
          "base_uri": "https://localhost:8080/",
          "height": 143
        }
      },
      "outputs": [
        {
          "output_type": "display_data",
          "data": {
            "text/plain": [
              "<IPython.core.display.HTML object>"
            ],
            "text/html": [
              "\n",
              "<style>\n",
              "    /* Turns off some styling */\n",
              "    progress {\n",
              "        /* gets rid of default border in Firefox and Opera. */\n",
              "        border: none;\n",
              "        /* Needs to be in here for Safari polyfill so background images work as expected. */\n",
              "        background-size: auto;\n",
              "    }\n",
              "    .progress-bar-interrupted, .progress-bar-interrupted::-webkit-progress-bar {\n",
              "        background: #F44336;\n",
              "    }\n",
              "</style>\n"
            ]
          },
          "metadata": {}
        },
        {
          "output_type": "display_data",
          "data": {
            "text/plain": [
              "<IPython.core.display.HTML object>"
            ],
            "text/html": [
              "<table border=\"1\" class=\"dataframe\">\n",
              "  <thead>\n",
              "    <tr style=\"text-align: left;\">\n",
              "      <th>epoch</th>\n",
              "      <th>train_loss</th>\n",
              "      <th>valid_loss</th>\n",
              "      <th>accuracy</th>\n",
              "      <th>time</th>\n",
              "    </tr>\n",
              "  </thead>\n",
              "  <tbody>\n",
              "    <tr>\n",
              "      <td>0</td>\n",
              "      <td>1.168621</td>\n",
              "      <td>1.105153</td>\n",
              "      <td>0.627006</td>\n",
              "      <td>00:53</td>\n",
              "    </tr>\n",
              "    <tr>\n",
              "      <td>1</td>\n",
              "      <td>1.072543</td>\n",
              "      <td>1.044195</td>\n",
              "      <td>0.671847</td>\n",
              "      <td>00:54</td>\n",
              "    </tr>\n",
              "    <tr>\n",
              "      <td>2</td>\n",
              "      <td>0.980752</td>\n",
              "      <td>1.019951</td>\n",
              "      <td>0.674650</td>\n",
              "      <td>00:52</td>\n",
              "    </tr>\n",
              "  </tbody>\n",
              "</table>"
            ]
          },
          "metadata": {}
        }
      ],
      "source": [
        "final_learner.fit_one_cycle(3, 1e-5)"
      ]
    },
    {
      "cell_type": "markdown",
      "id": "e7b5280d",
      "metadata": {
        "id": "e7b5280d"
      },
      "source": [
        "This operation is usually less useful for more recent architectures as they usually do not have that many parameters in their fully-connected layers."
      ]
    },
    {
      "cell_type": "markdown",
      "id": "512b7f18",
      "metadata": {
        "id": "512b7f18"
      },
      "source": [
        "---"
      ]
    }
  ],
  "metadata": {
    "kernelspec": {
      "display_name": "Python 3 (ipykernel)",
      "language": "python",
      "name": "python3"
    },
    "colab": {
      "name": "CUTE22_Exercice.ipynb",
      "provenance": [],
      "collapsed_sections": []
    },
    "accelerator": "GPU",
    "gpuClass": "standard",
    "widgets": {
      "application/vnd.jupyter.widget-state+json": {
        "bb090f9e74aa4ee8b55f9db1803fb4bd": {
          "model_module": "@jupyter-widgets/controls",
          "model_name": "HBoxModel",
          "model_module_version": "1.5.0",
          "state": {
            "_dom_classes": [],
            "_model_module": "@jupyter-widgets/controls",
            "_model_module_version": "1.5.0",
            "_model_name": "HBoxModel",
            "_view_count": null,
            "_view_module": "@jupyter-widgets/controls",
            "_view_module_version": "1.5.0",
            "_view_name": "HBoxView",
            "box_style": "",
            "children": [
              "IPY_MODEL_d59bce9778544483b64aa15eabf56bd0",
              "IPY_MODEL_7cd5b920c486411d95449103d76a8caf",
              "IPY_MODEL_ea4a901ce827494ca2823b56ca466710"
            ],
            "layout": "IPY_MODEL_433e939089ea47a998e2719e8a8257e3"
          }
        },
        "d59bce9778544483b64aa15eabf56bd0": {
          "model_module": "@jupyter-widgets/controls",
          "model_name": "HTMLModel",
          "model_module_version": "1.5.0",
          "state": {
            "_dom_classes": [],
            "_model_module": "@jupyter-widgets/controls",
            "_model_module_version": "1.5.0",
            "_model_name": "HTMLModel",
            "_view_count": null,
            "_view_module": "@jupyter-widgets/controls",
            "_view_module_version": "1.5.0",
            "_view_name": "HTMLView",
            "description": "",
            "description_tooltip": null,
            "layout": "IPY_MODEL_c814ca8e644f4f89abb86cc7265aff50",
            "placeholder": "​",
            "style": "IPY_MODEL_cc8bee42a54f42b0a0bea6e3a743a4fd",
            "value": "100%"
          }
        },
        "7cd5b920c486411d95449103d76a8caf": {
          "model_module": "@jupyter-widgets/controls",
          "model_name": "FloatProgressModel",
          "model_module_version": "1.5.0",
          "state": {
            "_dom_classes": [],
            "_model_module": "@jupyter-widgets/controls",
            "_model_module_version": "1.5.0",
            "_model_name": "FloatProgressModel",
            "_view_count": null,
            "_view_module": "@jupyter-widgets/controls",
            "_view_module_version": "1.5.0",
            "_view_name": "ProgressView",
            "bar_style": "success",
            "description": "",
            "description_tooltip": null,
            "layout": "IPY_MODEL_6e2c06e70ccc47cdb289a85b28243510",
            "max": 574769405,
            "min": 0,
            "orientation": "horizontal",
            "style": "IPY_MODEL_29a1e7b699ab44e0b26f937d417a17de",
            "value": 574769405
          }
        },
        "ea4a901ce827494ca2823b56ca466710": {
          "model_module": "@jupyter-widgets/controls",
          "model_name": "HTMLModel",
          "model_module_version": "1.5.0",
          "state": {
            "_dom_classes": [],
            "_model_module": "@jupyter-widgets/controls",
            "_model_module_version": "1.5.0",
            "_model_name": "HTMLModel",
            "_view_count": null,
            "_view_module": "@jupyter-widgets/controls",
            "_view_module_version": "1.5.0",
            "_view_name": "HTMLView",
            "description": "",
            "description_tooltip": null,
            "layout": "IPY_MODEL_56f61d33fed24191b9f70904b5cae96a",
            "placeholder": "​",
            "style": "IPY_MODEL_346d712146d34f21bbc3eb41b2b3fc0f",
            "value": " 548M/548M [00:06&lt;00:00, 92.1MB/s]"
          }
        },
        "433e939089ea47a998e2719e8a8257e3": {
          "model_module": "@jupyter-widgets/base",
          "model_name": "LayoutModel",
          "model_module_version": "1.2.0",
          "state": {
            "_model_module": "@jupyter-widgets/base",
            "_model_module_version": "1.2.0",
            "_model_name": "LayoutModel",
            "_view_count": null,
            "_view_module": "@jupyter-widgets/base",
            "_view_module_version": "1.2.0",
            "_view_name": "LayoutView",
            "align_content": null,
            "align_items": null,
            "align_self": null,
            "border": null,
            "bottom": null,
            "display": null,
            "flex": null,
            "flex_flow": null,
            "grid_area": null,
            "grid_auto_columns": null,
            "grid_auto_flow": null,
            "grid_auto_rows": null,
            "grid_column": null,
            "grid_gap": null,
            "grid_row": null,
            "grid_template_areas": null,
            "grid_template_columns": null,
            "grid_template_rows": null,
            "height": null,
            "justify_content": null,
            "justify_items": null,
            "left": null,
            "margin": null,
            "max_height": null,
            "max_width": null,
            "min_height": null,
            "min_width": null,
            "object_fit": null,
            "object_position": null,
            "order": null,
            "overflow": null,
            "overflow_x": null,
            "overflow_y": null,
            "padding": null,
            "right": null,
            "top": null,
            "visibility": null,
            "width": null
          }
        },
        "c814ca8e644f4f89abb86cc7265aff50": {
          "model_module": "@jupyter-widgets/base",
          "model_name": "LayoutModel",
          "model_module_version": "1.2.0",
          "state": {
            "_model_module": "@jupyter-widgets/base",
            "_model_module_version": "1.2.0",
            "_model_name": "LayoutModel",
            "_view_count": null,
            "_view_module": "@jupyter-widgets/base",
            "_view_module_version": "1.2.0",
            "_view_name": "LayoutView",
            "align_content": null,
            "align_items": null,
            "align_self": null,
            "border": null,
            "bottom": null,
            "display": null,
            "flex": null,
            "flex_flow": null,
            "grid_area": null,
            "grid_auto_columns": null,
            "grid_auto_flow": null,
            "grid_auto_rows": null,
            "grid_column": null,
            "grid_gap": null,
            "grid_row": null,
            "grid_template_areas": null,
            "grid_template_columns": null,
            "grid_template_rows": null,
            "height": null,
            "justify_content": null,
            "justify_items": null,
            "left": null,
            "margin": null,
            "max_height": null,
            "max_width": null,
            "min_height": null,
            "min_width": null,
            "object_fit": null,
            "object_position": null,
            "order": null,
            "overflow": null,
            "overflow_x": null,
            "overflow_y": null,
            "padding": null,
            "right": null,
            "top": null,
            "visibility": null,
            "width": null
          }
        },
        "cc8bee42a54f42b0a0bea6e3a743a4fd": {
          "model_module": "@jupyter-widgets/controls",
          "model_name": "DescriptionStyleModel",
          "model_module_version": "1.5.0",
          "state": {
            "_model_module": "@jupyter-widgets/controls",
            "_model_module_version": "1.5.0",
            "_model_name": "DescriptionStyleModel",
            "_view_count": null,
            "_view_module": "@jupyter-widgets/base",
            "_view_module_version": "1.2.0",
            "_view_name": "StyleView",
            "description_width": ""
          }
        },
        "6e2c06e70ccc47cdb289a85b28243510": {
          "model_module": "@jupyter-widgets/base",
          "model_name": "LayoutModel",
          "model_module_version": "1.2.0",
          "state": {
            "_model_module": "@jupyter-widgets/base",
            "_model_module_version": "1.2.0",
            "_model_name": "LayoutModel",
            "_view_count": null,
            "_view_module": "@jupyter-widgets/base",
            "_view_module_version": "1.2.0",
            "_view_name": "LayoutView",
            "align_content": null,
            "align_items": null,
            "align_self": null,
            "border": null,
            "bottom": null,
            "display": null,
            "flex": null,
            "flex_flow": null,
            "grid_area": null,
            "grid_auto_columns": null,
            "grid_auto_flow": null,
            "grid_auto_rows": null,
            "grid_column": null,
            "grid_gap": null,
            "grid_row": null,
            "grid_template_areas": null,
            "grid_template_columns": null,
            "grid_template_rows": null,
            "height": null,
            "justify_content": null,
            "justify_items": null,
            "left": null,
            "margin": null,
            "max_height": null,
            "max_width": null,
            "min_height": null,
            "min_width": null,
            "object_fit": null,
            "object_position": null,
            "order": null,
            "overflow": null,
            "overflow_x": null,
            "overflow_y": null,
            "padding": null,
            "right": null,
            "top": null,
            "visibility": null,
            "width": null
          }
        },
        "29a1e7b699ab44e0b26f937d417a17de": {
          "model_module": "@jupyter-widgets/controls",
          "model_name": "ProgressStyleModel",
          "model_module_version": "1.5.0",
          "state": {
            "_model_module": "@jupyter-widgets/controls",
            "_model_module_version": "1.5.0",
            "_model_name": "ProgressStyleModel",
            "_view_count": null,
            "_view_module": "@jupyter-widgets/base",
            "_view_module_version": "1.2.0",
            "_view_name": "StyleView",
            "bar_color": null,
            "description_width": ""
          }
        },
        "56f61d33fed24191b9f70904b5cae96a": {
          "model_module": "@jupyter-widgets/base",
          "model_name": "LayoutModel",
          "model_module_version": "1.2.0",
          "state": {
            "_model_module": "@jupyter-widgets/base",
            "_model_module_version": "1.2.0",
            "_model_name": "LayoutModel",
            "_view_count": null,
            "_view_module": "@jupyter-widgets/base",
            "_view_module_version": "1.2.0",
            "_view_name": "LayoutView",
            "align_content": null,
            "align_items": null,
            "align_self": null,
            "border": null,
            "bottom": null,
            "display": null,
            "flex": null,
            "flex_flow": null,
            "grid_area": null,
            "grid_auto_columns": null,
            "grid_auto_flow": null,
            "grid_auto_rows": null,
            "grid_column": null,
            "grid_gap": null,
            "grid_row": null,
            "grid_template_areas": null,
            "grid_template_columns": null,
            "grid_template_rows": null,
            "height": null,
            "justify_content": null,
            "justify_items": null,
            "left": null,
            "margin": null,
            "max_height": null,
            "max_width": null,
            "min_height": null,
            "min_width": null,
            "object_fit": null,
            "object_position": null,
            "order": null,
            "overflow": null,
            "overflow_x": null,
            "overflow_y": null,
            "padding": null,
            "right": null,
            "top": null,
            "visibility": null,
            "width": null
          }
        },
        "346d712146d34f21bbc3eb41b2b3fc0f": {
          "model_module": "@jupyter-widgets/controls",
          "model_name": "DescriptionStyleModel",
          "model_module_version": "1.5.0",
          "state": {
            "_model_module": "@jupyter-widgets/controls",
            "_model_module_version": "1.5.0",
            "_model_name": "DescriptionStyleModel",
            "_view_count": null,
            "_view_module": "@jupyter-widgets/base",
            "_view_module_version": "1.2.0",
            "_view_name": "StyleView",
            "description_width": ""
          }
        }
      }
    }
  },
  "nbformat": 4,
  "nbformat_minor": 5
}